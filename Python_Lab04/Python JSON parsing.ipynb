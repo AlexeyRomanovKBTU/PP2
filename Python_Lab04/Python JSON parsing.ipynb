{
 "cells": [
  {
   "cell_type": "markdown",
   "metadata": {},
   "source": [
    "Using data file sample-data.json, create output that resembles the following by parsing the included JSON file."
   ]
  },
  {
   "cell_type": "code",
   "execution_count": 2,
   "metadata": {},
   "outputs": [
    {
     "name": "stdout",
     "output_type": "stream",
     "text": [
      "Interface Status\n",
      "=======================================================================================\n",
      "DN                                                 Description           Speed    MTU  \n",
      "-------------------------------------------------- --------------------- -------- -----\n",
      "topology/pod-1/node-201/sys/phys-[eth1/33]                               inherit  9150 \n",
      "topology/pod-1/node-201/sys/phys-[eth1/34]                               inherit  9150 \n",
      "topology/pod-1/node-201/sys/phys-[eth1/35]                               inherit  9150 \n",
      "topology/pod-1/node-201/sys/phys-[eth1/36]                               inherit  9150 \n",
      "topology/pod-1/node-201/sys/phys-[eth1/1]                                inherit  9150 \n",
      "topology/pod-1/node-201/sys/phys-[eth1/2]                                inherit  9150 \n",
      "topology/pod-1/node-201/sys/phys-[eth1/3]                                inherit  9150 \n",
      "topology/pod-1/node-201/sys/phys-[eth1/4]                                inherit  9150 \n",
      "topology/pod-1/node-201/sys/phys-[eth1/5]                                inherit  9150 \n",
      "topology/pod-1/node-201/sys/phys-[eth1/6]                                inherit  9150 \n",
      "topology/pod-1/node-201/sys/phys-[eth1/7]                                inherit  9150 \n",
      "topology/pod-1/node-201/sys/phys-[eth1/8]                                inherit  9150 \n",
      "topology/pod-1/node-201/sys/phys-[eth1/9]                                inherit  9150 \n",
      "topology/pod-1/node-201/sys/phys-[eth1/10]                               inherit  9150 \n",
      "topology/pod-1/node-201/sys/phys-[eth1/11]                               inherit  9150 \n",
      "topology/pod-1/node-201/sys/phys-[eth1/12]                               inherit  9150 \n",
      "topology/pod-1/node-201/sys/phys-[eth1/13]                               inherit  9150 \n",
      "topology/pod-1/node-201/sys/phys-[eth1/14]                               inherit  9150 \n"
     ]
    }
   ],
   "source": [
    "import json\n",
    "\n",
    "f = open(r'C:\\Users\\Алексей\\Desktop\\KBTU\\2 semester\\PP2\\Python_Lab04\\sample-data.json')\n",
    "\n",
    "data = json.load(f)\n",
    "\n",
    "print(\"Interface Status\")\n",
    "print(\"=\" * 87)\n",
    "print(f\"{'DN':<50} {'Description':<21} {'Speed':<8} {'MTU':<5}\")\n",
    "print(f\"{'-' * 50:<50} {'-'*21:<21} {'-'*8:<8} {'-'*5:<5}\")\n",
    "\n",
    "for item in data[\"imdata\"]:\n",
    "    attributes = item[\"l1PhysIf\"][\"attributes\"]\n",
    "    dn = attributes[\"dn\"]\n",
    "    descr = attributes.get(\"descr\", \"\")\n",
    "    speed = attributes[\"speed\"]\n",
    "    mtu = attributes[\"mtu\"]\n",
    "\n",
    "    print(f\"{dn:<50} {descr:<21} {speed:<8} {mtu:<5}\")"
   ]
  }
 ],
 "metadata": {
  "kernelspec": {
   "display_name": "base",
   "language": "python",
   "name": "python3"
  },
  "language_info": {
   "codemirror_mode": {
    "name": "ipython",
    "version": 3
   },
   "file_extension": ".py",
   "mimetype": "text/x-python",
   "name": "python",
   "nbconvert_exporter": "python",
   "pygments_lexer": "ipython3",
   "version": "3.12.7"
  }
 },
 "nbformat": 4,
 "nbformat_minor": 2
}
