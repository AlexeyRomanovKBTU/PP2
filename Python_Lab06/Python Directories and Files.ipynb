{
 "cells": [
  {
   "cell_type": "markdown",
   "metadata": {},
   "source": [
    "Write a Python program to list only directories, files and all directories, files in a specified path."
   ]
  },
  {
   "cell_type": "code",
   "execution_count": null,
   "metadata": {},
   "outputs": [
    {
     "name": "stdout",
     "output_type": "stream",
     "text": [
      "Directories:\n",
      "Alphabet Files\n",
      "\n",
      "Files:\n",
      "Python builtin functions.ipynb\n",
      "Python Directories and Files.ipynb\n",
      "test.txt\n",
      "test2.txt\n",
      "\n",
      "All Contents:\n",
      "Alphabet Files\n",
      "Python builtin functions.ipynb\n",
      "Python Directories and Files.ipynb\n",
      "test.txt\n",
      "test2.txt\n"
     ]
    }
   ],
   "source": [
    "import os\n",
    "\n",
    "path = input(\"Enter the directory path: \")\n",
    "\n",
    "if not os.path.exists(path):\n",
    "    print(\"The specified path does not exist.\")\n",
    "\n",
    "directories = [d for d in os.listdir(path) if os.path.isdir(os.path.join(path, d))]\n",
    "files = [f for f in os.listdir(path) if os.path.isfile(os.path.join(path, f))]\n",
    "\n",
    "print(\"Directories:\")\n",
    "print(\"\\n\".join(directories) if directories else \"No directories found.\")\n",
    "\n",
    "print(\"\\nFiles:\")\n",
    "print(\"\\n\".join(files) if files else \"No files found.\")\n",
    "\n",
    "print(\"\\nAll Contents:\")\n",
    "print(\"\\n\".join(os.listdir(path)) if os.listdir(path) else \"The directory is empty.\")"
   ]
  },
  {
   "cell_type": "markdown",
   "metadata": {},
   "source": [
    "Write a Python program to check for access to a specified path. Test the existence, readability, writability and executability of the specified path."
   ]
  },
  {
   "cell_type": "code",
   "execution_count": 14,
   "metadata": {},
   "outputs": [
    {
     "name": "stdout",
     "output_type": "stream",
     "text": [
      "Checking access for: C:\\Users\\Алексей\\Desktop\\KBTU\\2 semester\\PP2\n",
      "\n",
      "The path exists.\n",
      "Readable:  Yes\n",
      "Writable:  Yes\n",
      "Executable:  Yes\n"
     ]
    }
   ],
   "source": [
    "import os\n",
    "\n",
    "path = input(\"Enter the path to check: \")\n",
    "print(f\"Checking access for: {path}\\n\")\n",
    "if not os.path.exists(path):\n",
    "    print(\"The specified path does not exist.\")\n",
    "\n",
    "print(\"The path exists.\")\n",
    "\n",
    "\n",
    "print(\"Readable: \", \"Yes\" if os.access(path, os.R_OK) else \"No\")\n",
    "print(\"Writable: \", \"Yes\" if os.access(path, os.W_OK) else \"No\")\n",
    "print(\"Executable: \", \"Yes\" if os.access(path, os.X_OK) else \"No\")"
   ]
  },
  {
   "cell_type": "markdown",
   "metadata": {},
   "source": [
    "Write a Python program to test whether a given path exists or not. If the path exist find the filename and directory portion of the given path.\n"
   ]
  },
  {
   "cell_type": "code",
   "execution_count": 16,
   "metadata": {},
   "outputs": [
    {
     "name": "stdout",
     "output_type": "stream",
     "text": [
      "The path exists.\n",
      "Directory Portion: C:\\Users\\Алексей\\Desktop\\KBTU\\2 semester\\PP2\n",
      "Filename Portion: Python_Lab06\n"
     ]
    }
   ],
   "source": [
    "import os\n",
    "\n",
    "path = input(\"Enter the path to check: \")\n",
    "\n",
    "if not os.path.exists(path):\n",
    "    print(\"The specified path does not exist.\")\n",
    "\n",
    "print(\"The path exists.\")\n",
    "    \n",
    "directory = os.path.dirname(path)\n",
    "filename = os.path.basename(path)\n",
    "\n",
    "print(f\"Directory Portion: {directory if directory else 'N/A'}\")\n",
    "print(f\"Filename Portion: {filename if filename else 'N/A'}\")"
   ]
  },
  {
   "cell_type": "markdown",
   "metadata": {},
   "source": [
    "Write a Python program to count the number of lines in a text file.\n"
   ]
  },
  {
   "cell_type": "code",
   "execution_count": 17,
   "metadata": {},
   "outputs": [
    {
     "name": "stdout",
     "output_type": "stream",
     "text": [
      "There are 8 lines in this text\n"
     ]
    }
   ],
   "source": [
    "file = open(\"test.txt\", \"r\")\n",
    "cnt = 0\n",
    "for line in file:\n",
    "  cnt = cnt + 1\n",
    "file.close()\n",
    "print(f\"There are {cnt} lines in this text\")"
   ]
  },
  {
   "cell_type": "markdown",
   "metadata": {},
   "source": [
    "Write a Python program to write a list to a file.\n"
   ]
  },
  {
   "cell_type": "code",
   "execution_count": 18,
   "metadata": {},
   "outputs": [
    {
     "name": "stdout",
     "output_type": "stream",
     "text": [
      "Line 1\n",
      "Line 2\n",
      "Line 3\n",
      "Line 4\n",
      "Line 5\n",
      "Line 6\n",
      "Line 7\n",
      "Line 8\n",
      "Line 9\n",
      "Line 10\n",
      "Line 11\n"
     ]
    }
   ],
   "source": [
    "list_of_lines = [\"Line 9\", \"Line 10\", \"Line 11\"]\n",
    "with open(\"test.txt\", \"a\") as file:\n",
    "    for i in list_of_lines:\n",
    "        file.write(\"\\n\" + i)\n",
    "\n",
    "with open(\"test.txt\", \"r\") as file:\n",
    "    print(file.read())\n",
    "\n",
    "file.close()"
   ]
  },
  {
   "cell_type": "markdown",
   "metadata": {},
   "source": [
    "Write a Python program to generate 26 text files named A.txt, B.txt, and so on up to Z.txt\n"
   ]
  },
  {
   "cell_type": "code",
   "execution_count": 8,
   "metadata": {},
   "outputs": [],
   "source": [
    "for i in range(65, 91):\n",
    "    name = chr(i)\n",
    "    file = open(f\"{name}.txt\", \"x\")\n",
    "    file.close()"
   ]
  },
  {
   "cell_type": "markdown",
   "metadata": {},
   "source": [
    "Write a Python program to copy the contents of a file to another file\n"
   ]
  },
  {
   "cell_type": "code",
   "execution_count": 9,
   "metadata": {},
   "outputs": [],
   "source": [
    "src = open(\"test.txt\", \"r\")\n",
    "dest = open(\"test2.txt\", \"w\")\n",
    "dest.write(src.read())\n",
    "src.close()\n",
    "dest.close()"
   ]
  },
  {
   "cell_type": "markdown",
   "metadata": {},
   "source": [
    "Write a Python program to delete file by specified path. Before deleting check for access and whether a given path exists or not.\n"
   ]
  },
  {
   "cell_type": "code",
   "execution_count": 5,
   "metadata": {},
   "outputs": [],
   "source": [
    "import os\n",
    "if os.path.exists(\"demofile.txt\"):\n",
    "  os.remove(\"demofile.txt\")\n",
    "else:\n",
    "  print(\"The file does not exist\")"
   ]
  }
 ],
 "metadata": {
  "kernelspec": {
   "display_name": "base",
   "language": "python",
   "name": "python3"
  },
  "language_info": {
   "codemirror_mode": {
    "name": "ipython",
    "version": 3
   },
   "file_extension": ".py",
   "mimetype": "text/x-python",
   "name": "python",
   "nbconvert_exporter": "python",
   "pygments_lexer": "ipython3",
   "version": "3.12.7"
  }
 },
 "nbformat": 4,
 "nbformat_minor": 2
}
